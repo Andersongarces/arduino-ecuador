{
 "cells": [
  {
   "cell_type": "code",
   "execution_count": 1,
   "metadata": {},
   "outputs": [
    {
     "data": {
      "text/html": [
       "        <script type=\"text/javascript\">\n",
       "        window.PlotlyConfig = {MathJaxConfig: 'local'};\n",
       "        if (window.MathJax && window.MathJax.Hub && window.MathJax.Hub.Config) {window.MathJax.Hub.Config({SVG: {font: \"STIX-Web\"}});}\n",
       "        if (typeof require !== 'undefined') {\n",
       "        require.undef(\"plotly\");\n",
       "        requirejs.config({\n",
       "            paths: {\n",
       "                'plotly': ['https://cdn.plot.ly/plotly-2.27.0.min']\n",
       "            }\n",
       "        });\n",
       "        require(['plotly'], function(Plotly) {\n",
       "            window._Plotly = Plotly;\n",
       "        });\n",
       "        }\n",
       "        </script>\n",
       "        "
      ]
     },
     "metadata": {},
     "output_type": "display_data"
    }
   ],
   "source": [
    "import numpy as np\n",
    "import pandas as pd\n",
    "from sklearn.preprocessing import MinMaxScaler\n",
    "from sklearn.model_selection import train_test_split\n",
    "from sklearn.metrics import mean_squared_error\n",
    "from tensorflow.keras.models import Sequential\n",
    "from tensorflow.keras.layers import LSTM, Dense\n",
    "import matplotlib.pyplot as plt\n",
    "import cufflinks as cf"
   ]
  },
  {
   "cell_type": "code",
   "execution_count": 2,
   "metadata": {},
   "outputs": [],
   "source": [
    "df = pd.read_csv(\"arduino_trends.csv\")"
   ]
  },
  {
   "cell_type": "code",
   "execution_count": 3,
   "metadata": {},
   "outputs": [
    {
     "name": "stdout",
     "output_type": "stream",
     "text": [
      "Epoch 1/50\n",
      "40/40 - 1s - loss: 0.1029 - 853ms/epoch - 21ms/step\n",
      "Epoch 2/50\n",
      "40/40 - 0s - loss: 0.0705 - 33ms/epoch - 837us/step\n",
      "Epoch 3/50\n",
      "40/40 - 0s - loss: 0.0610 - 32ms/epoch - 796us/step\n",
      "Epoch 4/50\n",
      "40/40 - 0s - loss: 0.0565 - 28ms/epoch - 695us/step\n",
      "Epoch 5/50\n",
      "40/40 - 0s - loss: 0.0549 - 44ms/epoch - 1ms/step\n",
      "Epoch 6/50\n",
      "40/40 - 0s - loss: 0.0528 - 28ms/epoch - 706us/step\n",
      "Epoch 7/50\n",
      "40/40 - 0s - loss: 0.0509 - 27ms/epoch - 687us/step\n",
      "Epoch 8/50\n",
      "40/40 - 0s - loss: 0.0503 - 27ms/epoch - 679us/step\n",
      "Epoch 9/50\n",
      "40/40 - 0s - loss: 0.0493 - 39ms/epoch - 975us/step\n",
      "Epoch 10/50\n",
      "40/40 - 0s - loss: 0.0481 - 28ms/epoch - 702us/step\n",
      "Epoch 11/50\n",
      "40/40 - 0s - loss: 0.0474 - 27ms/epoch - 687us/step\n",
      "Epoch 12/50\n",
      "40/40 - 0s - loss: 0.0466 - 27ms/epoch - 673us/step\n",
      "Epoch 13/50\n",
      "40/40 - 0s - loss: 0.0467 - 28ms/epoch - 693us/step\n",
      "Epoch 14/50\n",
      "40/40 - 0s - loss: 0.0459 - 28ms/epoch - 693us/step\n",
      "Epoch 15/50\n",
      "40/40 - 0s - loss: 0.0469 - 27ms/epoch - 671us/step\n",
      "Epoch 16/50\n",
      "40/40 - 0s - loss: 0.0451 - 27ms/epoch - 671us/step\n",
      "Epoch 17/50\n",
      "40/40 - 0s - loss: 0.0452 - 28ms/epoch - 691us/step\n",
      "Epoch 18/50\n",
      "40/40 - 0s - loss: 0.0446 - 35ms/epoch - 872us/step\n",
      "Epoch 19/50\n",
      "40/40 - 0s - loss: 0.0448 - 43ms/epoch - 1ms/step\n",
      "Epoch 20/50\n",
      "40/40 - 0s - loss: 0.0450 - 55ms/epoch - 1ms/step\n",
      "Epoch 21/50\n",
      "40/40 - 0s - loss: 0.0444 - 60ms/epoch - 1ms/step\n",
      "Epoch 22/50\n",
      "40/40 - 0s - loss: 0.0444 - 32ms/epoch - 808us/step\n",
      "Epoch 23/50\n",
      "40/40 - 0s - loss: 0.0464 - 32ms/epoch - 788us/step\n",
      "Epoch 24/50\n",
      "40/40 - 0s - loss: 0.0467 - 34ms/epoch - 838us/step\n",
      "Epoch 25/50\n",
      "40/40 - 0s - loss: 0.0444 - 39ms/epoch - 978us/step\n",
      "Epoch 26/50\n",
      "40/40 - 0s - loss: 0.0447 - 58ms/epoch - 1ms/step\n",
      "Epoch 27/50\n",
      "40/40 - 0s - loss: 0.0447 - 32ms/epoch - 801us/step\n",
      "Epoch 28/50\n",
      "40/40 - 0s - loss: 0.0445 - 32ms/epoch - 800us/step\n",
      "Epoch 29/50\n",
      "40/40 - 0s - loss: 0.0452 - 44ms/epoch - 1ms/step\n",
      "Epoch 30/50\n",
      "40/40 - 0s - loss: 0.0453 - 33ms/epoch - 823us/step\n",
      "Epoch 31/50\n",
      "40/40 - 0s - loss: 0.0439 - 30ms/epoch - 754us/step\n",
      "Epoch 32/50\n",
      "40/40 - 0s - loss: 0.0451 - 30ms/epoch - 762us/step\n",
      "Epoch 33/50\n",
      "40/40 - 0s - loss: 0.0443 - 28ms/epoch - 694us/step\n",
      "Epoch 34/50\n",
      "40/40 - 0s - loss: 0.0444 - 27ms/epoch - 663us/step\n",
      "Epoch 35/50\n",
      "40/40 - 0s - loss: 0.0439 - 29ms/epoch - 728us/step\n",
      "Epoch 36/50\n",
      "40/40 - 0s - loss: 0.0442 - 29ms/epoch - 729us/step\n",
      "Epoch 37/50\n",
      "40/40 - 0s - loss: 0.0446 - 28ms/epoch - 703us/step\n",
      "Epoch 38/50\n",
      "40/40 - 0s - loss: 0.0455 - 47ms/epoch - 1ms/step\n",
      "Epoch 39/50\n",
      "40/40 - 0s - loss: 0.0441 - 27ms/epoch - 684us/step\n",
      "Epoch 40/50\n",
      "40/40 - 0s - loss: 0.0441 - 28ms/epoch - 690us/step\n",
      "Epoch 41/50\n",
      "40/40 - 0s - loss: 0.0441 - 27ms/epoch - 682us/step\n",
      "Epoch 42/50\n",
      "40/40 - 0s - loss: 0.0446 - 27ms/epoch - 676us/step\n",
      "Epoch 43/50\n",
      "40/40 - 0s - loss: 0.0444 - 27ms/epoch - 672us/step\n",
      "Epoch 44/50\n",
      "40/40 - 0s - loss: 0.0443 - 27ms/epoch - 684us/step\n",
      "Epoch 45/50\n",
      "40/40 - 0s - loss: 0.0444 - 27ms/epoch - 677us/step\n",
      "Epoch 46/50\n",
      "40/40 - 0s - loss: 0.0442 - 28ms/epoch - 688us/step\n",
      "Epoch 47/50\n",
      "40/40 - 0s - loss: 0.0451 - 27ms/epoch - 678us/step\n",
      "Epoch 48/50\n",
      "40/40 - 0s - loss: 0.0448 - 27ms/epoch - 672us/step\n",
      "Epoch 49/50\n",
      "40/40 - 0s - loss: 0.0458 - 28ms/epoch - 691us/step\n",
      "Epoch 50/50\n",
      "40/40 - 0s - loss: 0.0441 - 41ms/epoch - 1ms/step\n",
      "1/1 [==============================] - 0s 248ms/step\n",
      "Mean Squared Error: 92.7214907499951\n"
     ]
    },
    {
     "data": {
      "image/png": "[encoded data removed]",
      "text/plain": [
       "<Figure size 1000x600 with 1 Axes>"
      ]
     },
     "metadata": {},
     "output_type": "display_data"
    }
   ],
   "source": [
    "# Seleccionar la columna objetivo\n",
    "target_column = 'Arduino uno'\n",
    "df_target = df[['Semana', target_column]]\n",
    "\n",
    "# Convertir la columna 'Semana' a tipo fecha\n",
    "df_target['Semana'] = pd.to_datetime(df_target['Semana'])\n",
    "\n",
    "# Establecer 'Semana' como índice\n",
    "df_target.set_index('Semana', inplace=True)\n",
    "\n",
    "# Escalar los datos\n",
    "scaler = MinMaxScaler(feature_range=(0, 1))\n",
    "df_target_scaled = scaler.fit_transform(df_target)\n",
    "\n",
    "# Preparar los datos para el modelo LSTM\n",
    "def create_dataset(dataset, time_steps=1):\n",
    "    X, y = [], []\n",
    "    for i in range(len(dataset)-time_steps):\n",
    "        a = dataset[i:(i+time_steps), 0]\n",
    "        X.append(a)\n",
    "        y.append(dataset[i + time_steps, 0])\n",
    "    return np.array(X), np.array(y)\n",
    "\n",
    "time_steps = 1\n",
    "X, y = create_dataset(df_target_scaled, time_steps)\n",
    "\n",
    "# Dividir los datos en conjuntos de entrenamiento y prueba\n",
    "X_train, X_test, y_train, y_test = train_test_split(X, y, test_size=0.2, random_state=42)\n",
    "\n",
    "# Reshape para LSTM (número de muestras, número de time steps, número de características)\n",
    "X_train = np.reshape(X_train, (X_train.shape[0], time_steps, 1))\n",
    "X_test = np.reshape(X_test, (X_test.shape[0], time_steps, 1))\n",
    "\n",
    "# Crear el modelo LSTM\n",
    "model = Sequential()\n",
    "model.add(LSTM(50, input_shape=(X_train.shape[1], X_train.shape[2])))\n",
    "model.add(Dense(1))\n",
    "model.compile(loss='mean_squared_error', optimizer='adam')\n",
    "\n",
    "# Entrenar el modelo\n",
    "epochs = 50\n",
    "batch_size = 1\n",
    "model.fit(X_train, y_train, epochs=epochs, batch_size=batch_size, verbose=2)\n",
    "\n",
    "# Realizar predicciones en el conjunto de prueba\n",
    "y_pred = model.predict(X_test)\n",
    "\n",
    "# Invertir la escala para obtener valores reales\n",
    "y_test_inv = scaler.inverse_transform(y_test.reshape(-1, 1))\n",
    "y_pred_inv = scaler.inverse_transform(y_pred)\n",
    "\n",
    "# Calcular el error cuadrático medio en la escala original\n",
    "mse = mean_squared_error(y_test_inv, y_pred_inv)\n",
    "print(f'Mean Squared Error: {mse}')\n",
    "\n",
    "# Visualizar las predicciones\n",
    "plt.figure(figsize=(10, 6))\n",
    "plt.plot(y_test_inv, label='Actual')\n",
    "plt.plot(y_pred_inv, label='Predicted')\n",
    "plt.title('Next Month Prediction using LSTM')\n",
    "plt.xlabel('Semana')\n",
    "plt.ylabel(target_column)\n",
    "plt.legend()\n",
    "plt.show()"
   ]
  },
  {
   "cell_type": "code",
   "execution_count": 4,
   "metadata": {},
   "outputs": [
    {
     "data": {
      "text/html": [
       "<div>\n",
       "<style scoped>\n",
       "    .dataframe tbody tr th:only-of-type {\n",
       "        vertical-align: middle;\n",
       "    }\n",
       "\n",
       "    .dataframe tbody tr th {\n",
       "        vertical-align: top;\n",
       "    }\n",
       "\n",
       "    .dataframe thead th {\n",
       "        text-align: right;\n",
       "    }\n",
       "</style>\n",
       "<table border=\"1\" class=\"dataframe\">\n",
       "  <thead>\n",
       "    <tr style=\"text-align: right;\">\n",
       "      <th></th>\n",
       "      <th>Arduino uno</th>\n",
       "      <th>Placa de pruebas</th>\n",
       "      <th>Protoboard</th>\n",
       "      <th>Arduino nano</th>\n",
       "      <th>Semana</th>\n",
       "    </tr>\n",
       "  </thead>\n",
       "  <tbody>\n",
       "    <tr>\n",
       "      <th>0</th>\n",
       "      <td>36</td>\n",
       "      <td>39</td>\n",
       "      <td>30</td>\n",
       "      <td>17</td>\n",
       "      <td>2023-01-01</td>\n",
       "    </tr>\n",
       "    <tr>\n",
       "      <th>1</th>\n",
       "      <td>17</td>\n",
       "      <td>57</td>\n",
       "      <td>43</td>\n",
       "      <td>19</td>\n",
       "      <td>2023-01-08</td>\n",
       "    </tr>\n",
       "    <tr>\n",
       "      <th>2</th>\n",
       "      <td>35</td>\n",
       "      <td>66</td>\n",
       "      <td>49</td>\n",
       "      <td>19</td>\n",
       "      <td>2023-01-15</td>\n",
       "    </tr>\n",
       "    <tr>\n",
       "      <th>3</th>\n",
       "      <td>33</td>\n",
       "      <td>70</td>\n",
       "      <td>73</td>\n",
       "      <td>0</td>\n",
       "      <td>2023-01-22</td>\n",
       "    </tr>\n",
       "    <tr>\n",
       "      <th>4</th>\n",
       "      <td>21</td>\n",
       "      <td>37</td>\n",
       "      <td>34</td>\n",
       "      <td>8</td>\n",
       "      <td>2023-01-29</td>\n",
       "    </tr>\n",
       "  </tbody>\n",
       "</table>\n",
       "</div>"
      ],
      "text/plain": [
       "   Arduino uno  Placa de pruebas  Protoboard  Arduino nano      Semana\n",
       "0           36                39          30            17  2023-01-01\n",
       "1           17                57          43            19  2023-01-08\n",
       "2           35                66          49            19  2023-01-15\n",
       "3           33                70          73             0  2023-01-22\n",
       "4           21                37          34             8  2023-01-29"
      ]
     },
     "execution_count": 4,
     "metadata": {},
     "output_type": "execute_result"
    }
   ],
   "source": [
    "df_line = df[[\"Arduino uno\", \"Placa de pruebas\", \"Protoboard\",\"Arduino nano\", \"Semana\"]]\n",
    "df_line.head(5) "
   ]
  },
  {
   "cell_type": "code",
   "execution_count": 5,
   "metadata": {},
   "outputs": [
    {
     "data": {
      "text/html": [
       "        <script type=\"text/javascript\">\n",
       "        window.PlotlyConfig = {MathJaxConfig: 'local'};\n",
       "        if (window.MathJax && window.MathJax.Hub && window.MathJax.Hub.Config) {window.MathJax.Hub.Config({SVG: {font: \"STIX-Web\"}});}\n",
       "        if (typeof require !== 'undefined') {\n",
       "        require.undef(\"plotly\");\n",
       "        requirejs.config({\n",
       "            paths: {\n",
       "                'plotly': ['https://cdn.plot.ly/plotly-2.27.0.min']\n",
       "            }\n",
       "        });\n",
       "        require(['plotly'], function(Plotly) {\n",
       "            window._Plotly = Plotly;\n",
       "        });\n",
       "        }\n",
       "        </script>\n",
       "        "
      ]
     },
     "metadata": {},
     "output_type": "display_data"
    },
    {
     "data": {
      "application/vnd.plotly.v1+json": {
       "config": {
        "plotlyServerURL": "https://plot.ly"
       },
       "data": [
        {
         "line": {
          "color": "rgba(255, 153, 51, 1.0)",
          "dash": "solid",
          "shape": "linear",
          "width": 1.3
         },
         "mode": "lines",
         "name": "Arduino uno",
         "text": "",
         "type": "scatter",
         "x": [
          "2023-01-01",
          "2023-01-08",
          "2023-01-15",
          "2023-01-22",
          "2023-01-29",
          "2023-02-05",
          "2023-02-12",
          "2023-02-19",
          "2023-02-26",
          "2023-03-05",
          "2023-03-12",
          "2023-03-19",
          "2023-03-26",
          "2023-04-02",
          "2023-04-09",
          "2023-04-16",
          "2023-04-23",
          "2023-04-30",
          "2023-05-07",
          "2023-05-14",
          "2023-05-21",
          "2023-05-28",
          "2023-06-04",
          "2023-06-11",
          "2023-06-18",
          "2023-06-25",
          "2023-07-02",
          "2023-07-09",
          "2023-07-16",
          "2023-07-23",
          "2023-07-30",
          "2023-08-06",
          "2023-08-13",
          "2023-08-20",
          "2023-08-27",
          "2023-09-03",
          "2023-09-10",
          "2023-09-17",
          "2023-09-24",
          "2023-10-01",
          "2023-10-08",
          "2023-10-15",
          "2023-10-22",
          "2023-10-29",
          "2023-11-05",
          "2023-11-12",
          "2023-11-19",
          "2023-11-26",
          "2023-12-03",
          "2023-12-10",
          "2023-12-17"
         ],
         "y": [
          36,
          17,
          35,
          33,
          21,
          49,
          16,
          14,
          56,
          9,
          37,
          8,
          13,
          19,
          23,
          8,
          26,
          11,
          21,
          33,
          44,
          28,
          20,
          22,
          19,
          20,
          30,
          30,
          22,
          24,
          17,
          38,
          26,
          25,
          63,
          14,
          27,
          18,
          16,
          22,
          22,
          19,
          36,
          14,
          22,
          30,
          34,
          8,
          35,
          26,
          19
         ]
        },
        {
         "line": {
          "color": "rgba(55, 128, 191, 1.0)",
          "dash": "solid",
          "shape": "linear",
          "width": 1.3
         },
         "mode": "lines",
         "name": "Actual",
         "text": "",
         "type": "scatter",
         "x": [
          "2023-01-01",
          "2023-01-08",
          "2023-01-15",
          "2023-01-22",
          "2023-01-29",
          "2023-02-05",
          "2023-02-12",
          "2023-02-19",
          "2023-02-26",
          "2023-03-05",
          "2023-03-12",
          "2023-03-19",
          "2023-03-26",
          "2023-04-02",
          "2023-04-09",
          "2023-04-16",
          "2023-04-23",
          "2023-04-30",
          "2023-05-07",
          "2023-05-14",
          "2023-05-21",
          "2023-05-28",
          "2023-06-04",
          "2023-06-11",
          "2023-06-18",
          "2023-06-25",
          "2023-07-02",
          "2023-07-09",
          "2023-07-16",
          "2023-07-23",
          "2023-07-30",
          "2023-08-06",
          "2023-08-13",
          "2023-08-20",
          "2023-08-27",
          "2023-09-03",
          "2023-09-10",
          "2023-09-17",
          "2023-09-24",
          "2023-10-01",
          "2023-10-08",
          "2023-10-15",
          "2023-10-22",
          "2023-10-29",
          "2023-11-05",
          "2023-11-12",
          "2023-11-19",
          "2023-11-26",
          "2023-12-03",
          "2023-12-10",
          "2023-12-17"
         ],
         "y": [
          "",
          "",
          "",
          "",
          "",
          "",
          "",
          "",
          "",
          "",
          "",
          "",
          "",
          "",
          "",
          "",
          "",
          "",
          "",
          "",
          "",
          "",
          "",
          "",
          "",
          "",
          "",
          "",
          "",
          "",
          "",
          "",
          "",
          "",
          "",
          "",
          "",
          "",
          "",
          "",
          "",
          23,
          22,
          38,
          34,
          21,
          26,
          30,
          30,
          25,
          44.00000000000001
         ]
        },
        {
         "line": {
          "color": "rgba(50, 171, 96, 1.0)",
          "dash": "solid",
          "shape": "linear",
          "width": 1.3
         },
         "mode": "lines",
         "name": "Predicted",
         "text": "",
         "type": "scatter",
         "x": [
          "2023-01-01",
          "2023-01-08",
          "2023-01-15",
          "2023-01-22",
          "2023-01-29",
          "2023-02-05",
          "2023-02-12",
          "2023-02-19",
          "2023-02-26",
          "2023-03-05",
          "2023-03-12",
          "2023-03-19",
          "2023-03-26",
          "2023-04-02",
          "2023-04-09",
          "2023-04-16",
          "2023-04-23",
          "2023-04-30",
          "2023-05-07",
          "2023-05-14",
          "2023-05-21",
          "2023-05-28",
          "2023-06-04",
          "2023-06-11",
          "2023-06-18",
          "2023-06-25",
          "2023-07-02",
          "2023-07-09",
          "2023-07-16",
          "2023-07-23",
          "2023-07-30",
          "2023-08-06",
          "2023-08-13",
          "2023-08-20",
          "2023-08-27",
          "2023-09-03",
          "2023-09-10",
          "2023-09-17",
          "2023-09-24",
          "2023-10-01",
          "2023-10-08",
          "2023-10-15",
          "2023-10-22",
          "2023-10-29",
          "2023-11-05",
          "2023-11-12",
          "2023-11-19",
          "2023-11-26",
          "2023-12-03",
          "2023-12-10",
          "2023-12-17"
         ],
         "y": [
          "",
          "",
          "",
          "",
          "",
          "",
          "",
          "",
          "",
          "",
          "",
          "",
          "",
          "",
          "",
          "",
          "",
          "",
          "",
          "",
          "",
          "",
          "",
          "",
          "",
          "",
          "",
          "",
          "",
          "",
          "",
          "",
          "",
          "",
          "",
          "",
          "",
          "",
          "",
          "",
          "",
          26.064353942871094,
          25.14641761779785,
          26.67058753967285,
          22.650094985961914,
          28.46099853515625,
          21.055952072143555,
          22.650094985961914,
          25.759510040283203,
          23.906879425048828,
          21.696617126464844
         ]
        }
       ],
       "layout": {
        "hovermode": "x",
        "legend": {
         "bgcolor": "#FFFFFF",
         "font": {
          "color": "#4D5663"
         }
        },
        "paper_bgcolor": "#FFFFFF",
        "plot_bgcolor": "#FFFFFF",
        "template": {
         "data": {
          "bar": [
           {
            "error_x": {
             "color": "#2a3f5f"
            },
            "error_y": {
             "color": "#2a3f5f"
            },
            "marker": {
             "line": {
              "color": "#E5ECF6",
              "width": 0.5
             },
             "pattern": {
              "fillmode": "overlay",
              "size": 10,
              "solidity": 0.2
             }
            },
            "type": "bar"
           }
          ],
          "barpolar": [
           {
            "marker": {
             "line": {
              "color": "#E5ECF6",
              "width": 0.5
             },
             "pattern": {
              "fillmode": "overlay",
              "size": 10,
              "solidity": 0.2
             }
            },
            "type": "barpolar"
           }
          ],
          "carpet": [
           {
            "aaxis": {
             "endlinecolor": "#2a3f5f",
             "gridcolor": "white",
             "linecolor": "white",
             "minorgridcolor": "white",
             "startlinecolor": "#2a3f5f"
            },
            "baxis": {
             "endlinecolor": "#2a3f5f",
             "gridcolor": "white",
             "linecolor": "white",
             "minorgridcolor": "white",
             "startlinecolor": "#2a3f5f"
            },
            "type": "carpet"
           }
          ],
          "choropleth": [
           {
            "colorbar": {
             "outlinewidth": 0,
             "ticks": ""
            },
            "type": "choropleth"
           }
          ],
          "contour": [
           {
            "colorbar": {
             "outlinewidth": 0,
             "ticks": ""
            },
            "colorscale": [
             [
              0,
              "#0d0887"
             ],
             [
              0.1111111111111111,
              "#46039f"
             ],
             [
              0.2222222222222222,
              "#7201a8"
             ],
             [
              0.3333333333333333,
              "#9c179e"
             ],
             [
              0.4444444444444444,
              "#bd3786"
             ],
             [
              0.5555555555555556,
              "#d8576b"
             ],
             [
              0.6666666666666666,
              "#ed7953"
             ],
             [
              0.7777777777777778,
              "#fb9f3a"
             ],
             [
              0.8888888888888888,
              "#fdca26"
             ],
             [
              1,
              "#f0f921"
             ]
            ],
            "type": "contour"
           }
          ],
          "contourcarpet": [
           {
            "colorbar": {
             "outlinewidth": 0,
             "ticks": ""
            },
            "type": "contourcarpet"
           }
          ],
          "heatmap": [
           {
            "colorbar": {
             "outlinewidth": 0,
             "ticks": ""
            },
            "colorscale": [
             [
              0,
              "#0d0887"
             ],
             [
              0.1111111111111111,
              "#46039f"
             ],
             [
              0.2222222222222222,
              "#7201a8"
             ],
             [
              0.3333333333333333,
              "#9c179e"
             ],
             [
              0.4444444444444444,
              "#bd3786"
             ],
             [
              0.5555555555555556,
              "#d8576b"
             ],
             [
              0.6666666666666666,
              "#ed7953"
             ],
             [
              0.7777777777777778,
              "#fb9f3a"
             ],
             [
              0.8888888888888888,
              "#fdca26"
             ],
             [
              1,
              "#f0f921"
             ]
            ],
            "type": "heatmap"
           }
          ],
          "heatmapgl": [
           {
            "colorbar": {
             "outlinewidth": 0,
             "ticks": ""
            },
            "colorscale": [
             [
              0,
              "#0d0887"
             ],
             [
              0.1111111111111111,
              "#46039f"
             ],
             [
              0.2222222222222222,
              "#7201a8"
             ],
             [
              0.3333333333333333,
              "#9c179e"
             ],
             [
              0.4444444444444444,
              "#bd3786"
             ],
             [
              0.5555555555555556,
              "#d8576b"
             ],
             [
              0.6666666666666666,
              "#ed7953"
             ],
             [
              0.7777777777777778,
              "#fb9f3a"
             ],
             [
              0.8888888888888888,
              "#fdca26"
             ],
             [
              1,
              "#f0f921"
             ]
            ],
            "type": "heatmapgl"
           }
          ],
          "histogram": [
           {
            "marker": {
             "pattern": {
              "fillmode": "overlay",
              "size": 10,
              "solidity": 0.2
             }
            },
            "type": "histogram"
           }
          ],
          "histogram2d": [
           {
            "colorbar": {
             "outlinewidth": 0,
             "ticks": ""
            },
            "colorscale": [
             [
              0,
              "#0d0887"
             ],
             [
              0.1111111111111111,
              "#46039f"
             ],
             [
              0.2222222222222222,
              "#7201a8"
             ],
             [
              0.3333333333333333,
              "#9c179e"
             ],
             [
              0.4444444444444444,
              "#bd3786"
             ],
             [
              0.5555555555555556,
              "#d8576b"
             ],
             [
              0.6666666666666666,
              "#ed7953"
             ],
             [
              0.7777777777777778,
              "#fb9f3a"
             ],
             [
              0.8888888888888888,
              "#fdca26"
             ],
             [
              1,
              "#f0f921"
             ]
            ],
            "type": "histogram2d"
           }
          ],
          "histogram2dcontour": [
           {
            "colorbar": {
             "outlinewidth": 0,
             "ticks": ""
            },
            "colorscale": [
             [
              0,
              "#0d0887"
             ],
             [
              0.1111111111111111,
              "#46039f"
             ],
             [
              0.2222222222222222,
              "#7201a8"
             ],
             [
              0.3333333333333333,
              "#9c179e"
             ],
             [
              0.4444444444444444,
              "#bd3786"
             ],
             [
              0.5555555555555556,
              "#d8576b"
             ],
             [
              0.6666666666666666,
              "#ed7953"
             ],
             [
              0.7777777777777778,
              "#fb9f3a"
             ],
             [
              0.8888888888888888,
              "#fdca26"
             ],
             [
              1,
              "#f0f921"
             ]
            ],
            "type": "histogram2dcontour"
           }
          ],
          "mesh3d": [
           {
            "colorbar": {
             "outlinewidth": 0,
             "ticks": ""
            },
            "type": "mesh3d"
           }
          ],
          "parcoords": [
           {
            "line": {
             "colorbar": {
              "outlinewidth": 0,
              "ticks": ""
             }
            },
            "type": "parcoords"
           }
          ],
          "pie": [
           {
            "automargin": true,
            "type": "pie"
           }
          ],
          "scatter": [
           {
            "fillpattern": {
             "fillmode": "overlay",
             "size": 10,
             "solidity": 0.2
            },
            "type": "scatter"
           }
          ],
          "scatter3d": [
           {
            "line": {
             "colorbar": {
              "outlinewidth": 0,
              "ticks": ""
             }
            },
            "marker": {
             "colorbar": {
              "outlinewidth": 0,
              "ticks": ""
             }
            },
            "type": "scatter3d"
           }
          ],
          "scattercarpet": [
           {
            "marker": {
             "colorbar": {
              "outlinewidth": 0,
              "ticks": ""
             }
            },
            "type": "scattercarpet"
           }
          ],
          "scattergeo": [
           {
            "marker": {
             "colorbar": {
              "outlinewidth": 0,
              "ticks": ""
             }
            },
            "type": "scattergeo"
           }
          ],
          "scattergl": [
           {
            "marker": {
             "colorbar": {
              "outlinewidth": 0,
              "ticks": ""
             }
            },
            "type": "scattergl"
           }
          ],
          "scattermapbox": [
           {
            "marker": {
             "colorbar": {
              "outlinewidth": 0,
              "ticks": ""
             }
            },
            "type": "scattermapbox"
           }
          ],
          "scatterpolar": [
           {
            "marker": {
             "colorbar": {
              "outlinewidth": 0,
              "ticks": ""
             }
            },
            "type": "scatterpolar"
           }
          ],
          "scatterpolargl": [
           {
            "marker": {
             "colorbar": {
              "outlinewidth": 0,
              "ticks": ""
             }
            },
            "type": "scatterpolargl"
           }
          ],
          "scatterternary": [
           {
            "marker": {
             "colorbar": {
              "outlinewidth": 0,
              "ticks": ""
             }
            },
            "type": "scatterternary"
           }
          ],
          "surface": [
           {
            "colorbar": {
             "outlinewidth": 0,
             "ticks": ""
            },
            "colorscale": [
             [
              0,
              "#0d0887"
             ],
             [
              0.1111111111111111,
              "#46039f"
             ],
             [
              0.2222222222222222,
              "#7201a8"
             ],
             [
              0.3333333333333333,
              "#9c179e"
             ],
             [
              0.4444444444444444,
              "#bd3786"
             ],
             [
              0.5555555555555556,
              "#d8576b"
             ],
             [
              0.6666666666666666,
              "#ed7953"
             ],
             [
              0.7777777777777778,
              "#fb9f3a"
             ],
             [
              0.8888888888888888,
              "#fdca26"
             ],
             [
              1,
              "#f0f921"
             ]
            ],
            "type": "surface"
           }
          ],
          "table": [
           {
            "cells": {
             "fill": {
              "color": "#EBF0F8"
             },
             "line": {
              "color": "white"
             }
            },
            "header": {
             "fill": {
              "color": "#C8D4E3"
             },
             "line": {
              "color": "white"
             }
            },
            "type": "table"
           }
          ]
         },
         "layout": {
          "annotationdefaults": {
           "arrowcolor": "#2a3f5f",
           "arrowhead": 0,
           "arrowwidth": 1
          },
          "autotypenumbers": "strict",
          "coloraxis": {
           "colorbar": {
            "outlinewidth": 0,
            "ticks": ""
           }
          },
          "colorscale": {
           "diverging": [
            [
             0,
             "#8e0152"
            ],
            [
             0.1,
             "#c51b7d"
            ],
            [
             0.2,
             "#de77ae"
            ],
            [
             0.3,
             "#f1b6da"
            ],
            [
             0.4,
             "#fde0ef"
            ],
            [
             0.5,
             "#f7f7f7"
            ],
            [
             0.6,
             "#e6f5d0"
            ],
            [
             0.7,
             "#b8e186"
            ],
            [
             0.8,
             "#7fbc41"
            ],
            [
             0.9,
             "#4d9221"
            ],
            [
             1,
             "#276419"
            ]
           ],
           "sequential": [
            [
             0,
             "#0d0887"
            ],
            [
             0.1111111111111111,
             "#46039f"
            ],
            [
             0.2222222222222222,
             "#7201a8"
            ],
            [
             0.3333333333333333,
             "#9c179e"
            ],
            [
             0.4444444444444444,
             "#bd3786"
            ],
            [
             0.5555555555555556,
             "#d8576b"
            ],
            [
             0.6666666666666666,
             "#ed7953"
            ],
            [
             0.7777777777777778,
             "#fb9f3a"
            ],
            [
             0.8888888888888888,
             "#fdca26"
            ],
            [
             1,
             "#f0f921"
            ]
           ],
           "sequentialminus": [
            [
             0,
             "#0d0887"
            ],
            [
             0.1111111111111111,
             "#46039f"
            ],
            [
             0.2222222222222222,
             "#7201a8"
            ],
            [
             0.3333333333333333,
             "#9c179e"
            ],
            [
             0.4444444444444444,
             "#bd3786"
            ],
            [
             0.5555555555555556,
             "#d8576b"
            ],
            [
             0.6666666666666666,
             "#ed7953"
            ],
            [
             0.7777777777777778,
             "#fb9f3a"
            ],
            [
             0.8888888888888888,
             "#fdca26"
            ],
            [
             1,
             "#f0f921"
            ]
           ]
          },
          "colorway": [
           "#636efa",
           "#EF553B",
           "#00cc96",
           "#ab63fa",
           "#FFA15A",
           "#19d3f3",
           "#FF6692",
           "#B6E880",
           "#FF97FF",
           "#FECB52"
          ],
          "font": {
           "color": "#2a3f5f"
          },
          "geo": {
           "bgcolor": "white",
           "lakecolor": "white",
           "landcolor": "#E5ECF6",
           "showlakes": true,
           "showland": true,
           "subunitcolor": "white"
          },
          "hoverlabel": {
           "align": "left"
          },
          "hovermode": "closest",
          "mapbox": {
           "style": "light"
          },
          "paper_bgcolor": "white",
          "plot_bgcolor": "#E5ECF6",
          "polar": {
           "angularaxis": {
            "gridcolor": "white",
            "linecolor": "white",
            "ticks": ""
           },
           "bgcolor": "#E5ECF6",
           "radialaxis": {
            "gridcolor": "white",
            "linecolor": "white",
            "ticks": ""
           }
          },
          "scene": {
           "xaxis": {
            "backgroundcolor": "#E5ECF6",
            "gridcolor": "white",
            "gridwidth": 2,
            "linecolor": "white",
            "showbackground": true,
            "ticks": "",
            "zerolinecolor": "white"
           },
           "yaxis": {
            "backgroundcolor": "#E5ECF6",
            "gridcolor": "white",
            "gridwidth": 2,
            "linecolor": "white",
            "showbackground": true,
            "ticks": "",
            "zerolinecolor": "white"
           },
           "zaxis": {
            "backgroundcolor": "#E5ECF6",
            "gridcolor": "white",
            "gridwidth": 2,
            "linecolor": "white",
            "showbackground": true,
            "ticks": "",
            "zerolinecolor": "white"
           }
          },
          "shapedefaults": {
           "line": {
            "color": "#2a3f5f"
           }
          },
          "ternary": {
           "aaxis": {
            "gridcolor": "white",
            "linecolor": "white",
            "ticks": ""
           },
           "baxis": {
            "gridcolor": "white",
            "linecolor": "white",
            "ticks": ""
           },
           "bgcolor": "#E5ECF6",
           "caxis": {
            "gridcolor": "white",
            "linecolor": "white",
            "ticks": ""
           }
          },
          "title": {
           "x": 0.05
          },
          "xaxis": {
           "automargin": true,
           "gridcolor": "white",
           "linecolor": "white",
           "ticks": "",
           "title": {
            "standoff": 15
           },
           "zerolinecolor": "white",
           "zerolinewidth": 2
          },
          "yaxis": {
           "automargin": true,
           "gridcolor": "white",
           "linecolor": "white",
           "ticks": "",
           "title": {
            "standoff": 15
           },
           "zerolinecolor": "white",
           "zerolinewidth": 2
          }
         }
        },
        "title": {
         "font": {
          "color": "#4D5663"
         },
         "text": "Frecuencia de búsquedas de Arduino uno con predicciones"
        },
        "xaxis": {
         "gridcolor": "#E1E5ED",
         "showgrid": true,
         "tickfont": {
          "color": "#4D5663"
         },
         "title": {
          "font": {
           "color": "#4D5663"
          },
          "text": "Semana"
         },
         "zerolinecolor": "#E1E5ED"
        },
        "yaxis": {
         "gridcolor": "#E1E5ED",
         "showgrid": true,
         "tickfont": {
          "color": "#4D5663"
         },
         "title": {
          "font": {
           "color": "#4D5663"
          },
          "text": "Frecuencia"
         },
         "zerolinecolor": "#E1E5ED"
        }
       }
      },
      "text/html": [
       "<div>                            <div id=\"6ee3f008-5ff4-4d59-833a-b61075345d0d\" class=\"plotly-graph-div\" style=\"height:525px; width:100%;\"></div>            <script type=\"text/javascript\">                require([\"plotly\"], function(Plotly) {                    window.PLOTLYENV=window.PLOTLYENV || {};                                    if (document.getElementById(\"6ee3f008-5ff4-4d59-833a-b61075345d0d\")) {                    Plotly.newPlot(                        \"6ee3f008-5ff4-4d59-833a-b61075345d0d\",                        [{\"line\":{\"color\":\"rgba(255, 153, 51, 1.0)\",\"dash\":\"solid\",\"shape\":\"linear\",\"width\":1.3},\"mode\":\"lines\",\"name\":\"Arduino uno\",\"text\":\"\",\"x\":[\"2023-01-01\",\"2023-01-08\",\"2023-01-15\",\"2023-01-22\",\"2023-01-29\",\"2023-02-05\",\"2023-02-12\",\"2023-02-19\",\"2023-02-26\",\"2023-03-05\",\"2023-03-12\",\"2023-03-19\",\"2023-03-26\",\"2023-04-02\",\"2023-04-09\",\"2023-04-16\",\"2023-04-23\",\"2023-04-30\",\"2023-05-07\",\"2023-05-14\",\"2023-05-21\",\"2023-05-28\",\"2023-06-04\",\"2023-06-11\",\"2023-06-18\",\"2023-06-25\",\"2023-07-02\",\"2023-07-09\",\"2023-07-16\",\"2023-07-23\",\"2023-07-30\",\"2023-08-06\",\"2023-08-13\",\"2023-08-20\",\"2023-08-27\",\"2023-09-03\",\"2023-09-10\",\"2023-09-17\",\"2023-09-24\",\"2023-10-01\",\"2023-10-08\",\"2023-10-15\",\"2023-10-22\",\"2023-10-29\",\"2023-11-05\",\"2023-11-12\",\"2023-11-19\",\"2023-11-26\",\"2023-12-03\",\"2023-12-10\",\"2023-12-17\"],\"y\":[36,17,35,33,21,49,16,14,56,9,37,8,13,19,23,8,26,11,21,33,44,28,20,22,19,20,30,30,22,24,17,38,26,25,63,14,27,18,16,22,22,19,36,14,22,30,34,8,35,26,19],\"type\":\"scatter\"},{\"line\":{\"color\":\"rgba(55, 128, 191, 1.0)\",\"dash\":\"solid\",\"shape\":\"linear\",\"width\":1.3},\"mode\":\"lines\",\"name\":\"Actual\",\"text\":\"\",\"x\":[\"2023-01-01\",\"2023-01-08\",\"2023-01-15\",\"2023-01-22\",\"2023-01-29\",\"2023-02-05\",\"2023-02-12\",\"2023-02-19\",\"2023-02-26\",\"2023-03-05\",\"2023-03-12\",\"2023-03-19\",\"2023-03-26\",\"2023-04-02\",\"2023-04-09\",\"2023-04-16\",\"2023-04-23\",\"2023-04-30\",\"2023-05-07\",\"2023-05-14\",\"2023-05-21\",\"2023-05-28\",\"2023-06-04\",\"2023-06-11\",\"2023-06-18\",\"2023-06-25\",\"2023-07-02\",\"2023-07-09\",\"2023-07-16\",\"2023-07-23\",\"2023-07-30\",\"2023-08-06\",\"2023-08-13\",\"2023-08-20\",\"2023-08-27\",\"2023-09-03\",\"2023-09-10\",\"2023-09-17\",\"2023-09-24\",\"2023-10-01\",\"2023-10-08\",\"2023-10-15\",\"2023-10-22\",\"2023-10-29\",\"2023-11-05\",\"2023-11-12\",\"2023-11-19\",\"2023-11-26\",\"2023-12-03\",\"2023-12-10\",\"2023-12-17\"],\"y\":[\"\",\"\",\"\",\"\",\"\",\"\",\"\",\"\",\"\",\"\",\"\",\"\",\"\",\"\",\"\",\"\",\"\",\"\",\"\",\"\",\"\",\"\",\"\",\"\",\"\",\"\",\"\",\"\",\"\",\"\",\"\",\"\",\"\",\"\",\"\",\"\",\"\",\"\",\"\",\"\",\"\",23.0,22.0,38.0,34.0,21.0,26.0,30.0,30.0,25.0,44.00000000000001],\"type\":\"scatter\"},{\"line\":{\"color\":\"rgba(50, 171, 96, 1.0)\",\"dash\":\"solid\",\"shape\":\"linear\",\"width\":1.3},\"mode\":\"lines\",\"name\":\"Predicted\",\"text\":\"\",\"x\":[\"2023-01-01\",\"2023-01-08\",\"2023-01-15\",\"2023-01-22\",\"2023-01-29\",\"2023-02-05\",\"2023-02-12\",\"2023-02-19\",\"2023-02-26\",\"2023-03-05\",\"2023-03-12\",\"2023-03-19\",\"2023-03-26\",\"2023-04-02\",\"2023-04-09\",\"2023-04-16\",\"2023-04-23\",\"2023-04-30\",\"2023-05-07\",\"2023-05-14\",\"2023-05-21\",\"2023-05-28\",\"2023-06-04\",\"2023-06-11\",\"2023-06-18\",\"2023-06-25\",\"2023-07-02\",\"2023-07-09\",\"2023-07-16\",\"2023-07-23\",\"2023-07-30\",\"2023-08-06\",\"2023-08-13\",\"2023-08-20\",\"2023-08-27\",\"2023-09-03\",\"2023-09-10\",\"2023-09-17\",\"2023-09-24\",\"2023-10-01\",\"2023-10-08\",\"2023-10-15\",\"2023-10-22\",\"2023-10-29\",\"2023-11-05\",\"2023-11-12\",\"2023-11-19\",\"2023-11-26\",\"2023-12-03\",\"2023-12-10\",\"2023-12-17\"],\"y\":[\"\",\"\",\"\",\"\",\"\",\"\",\"\",\"\",\"\",\"\",\"\",\"\",\"\",\"\",\"\",\"\",\"\",\"\",\"\",\"\",\"\",\"\",\"\",\"\",\"\",\"\",\"\",\"\",\"\",\"\",\"\",\"\",\"\",\"\",\"\",\"\",\"\",\"\",\"\",\"\",\"\",26.064353942871094,25.14641761779785,26.67058753967285,22.650094985961914,28.46099853515625,21.055952072143555,22.650094985961914,25.759510040283203,23.906879425048828,21.696617126464844],\"type\":\"scatter\"}],                        {\"legend\":{\"bgcolor\":\"#FFFFFF\",\"font\":{\"color\":\"#4D5663\"}},\"paper_bgcolor\":\"#FFFFFF\",\"plot_bgcolor\":\"#FFFFFF\",\"title\":{\"text\":\"Frecuencia de b\\u00fasquedas de Arduino uno con predicciones\",\"font\":{\"color\":\"#4D5663\"}},\"xaxis\":{\"gridcolor\":\"#E1E5ED\",\"showgrid\":true,\"tickfont\":{\"color\":\"#4D5663\"},\"title\":{\"text\":\"Semana\",\"font\":{\"color\":\"#4D5663\"}},\"zerolinecolor\":\"#E1E5ED\"},\"yaxis\":{\"gridcolor\":\"#E1E5ED\",\"showgrid\":true,\"tickfont\":{\"color\":\"#4D5663\"},\"title\":{\"text\":\"Frecuencia\",\"font\":{\"color\":\"#4D5663\"}},\"zerolinecolor\":\"#E1E5ED\"},\"template\":{\"data\":{\"histogram2dcontour\":[{\"type\":\"histogram2dcontour\",\"colorbar\":{\"outlinewidth\":0,\"ticks\":\"\"},\"colorscale\":[[0.0,\"#0d0887\"],[0.1111111111111111,\"#46039f\"],[0.2222222222222222,\"#7201a8\"],[0.3333333333333333,\"#9c179e\"],[0.4444444444444444,\"#bd3786\"],[0.5555555555555556,\"#d8576b\"],[0.6666666666666666,\"#ed7953\"],[0.7777777777777778,\"#fb9f3a\"],[0.8888888888888888,\"#fdca26\"],[1.0,\"#f0f921\"]]}],\"choropleth\":[{\"type\":\"choropleth\",\"colorbar\":{\"outlinewidth\":0,\"ticks\":\"\"}}],\"histogram2d\":[{\"type\":\"histogram2d\",\"colorbar\":{\"outlinewidth\":0,\"ticks\":\"\"},\"colorscale\":[[0.0,\"#0d0887\"],[0.1111111111111111,\"#46039f\"],[0.2222222222222222,\"#7201a8\"],[0.3333333333333333,\"#9c179e\"],[0.4444444444444444,\"#bd3786\"],[0.5555555555555556,\"#d8576b\"],[0.6666666666666666,\"#ed7953\"],[0.7777777777777778,\"#fb9f3a\"],[0.8888888888888888,\"#fdca26\"],[1.0,\"#f0f921\"]]}],\"heatmap\":[{\"type\":\"heatmap\",\"colorbar\":{\"outlinewidth\":0,\"ticks\":\"\"},\"colorscale\":[[0.0,\"#0d0887\"],[0.1111111111111111,\"#46039f\"],[0.2222222222222222,\"#7201a8\"],[0.3333333333333333,\"#9c179e\"],[0.4444444444444444,\"#bd3786\"],[0.5555555555555556,\"#d8576b\"],[0.6666666666666666,\"#ed7953\"],[0.7777777777777778,\"#fb9f3a\"],[0.8888888888888888,\"#fdca26\"],[1.0,\"#f0f921\"]]}],\"heatmapgl\":[{\"type\":\"heatmapgl\",\"colorbar\":{\"outlinewidth\":0,\"ticks\":\"\"},\"colorscale\":[[0.0,\"#0d0887\"],[0.1111111111111111,\"#46039f\"],[0.2222222222222222,\"#7201a8\"],[0.3333333333333333,\"#9c179e\"],[0.4444444444444444,\"#bd3786\"],[0.5555555555555556,\"#d8576b\"],[0.6666666666666666,\"#ed7953\"],[0.7777777777777778,\"#fb9f3a\"],[0.8888888888888888,\"#fdca26\"],[1.0,\"#f0f921\"]]}],\"contourcarpet\":[{\"type\":\"contourcarpet\",\"colorbar\":{\"outlinewidth\":0,\"ticks\":\"\"}}],\"contour\":[{\"type\":\"contour\",\"colorbar\":{\"outlinewidth\":0,\"ticks\":\"\"},\"colorscale\":[[0.0,\"#0d0887\"],[0.1111111111111111,\"#46039f\"],[0.2222222222222222,\"#7201a8\"],[0.3333333333333333,\"#9c179e\"],[0.4444444444444444,\"#bd3786\"],[0.5555555555555556,\"#d8576b\"],[0.6666666666666666,\"#ed7953\"],[0.7777777777777778,\"#fb9f3a\"],[0.8888888888888888,\"#fdca26\"],[1.0,\"#f0f921\"]]}],\"surface\":[{\"type\":\"surface\",\"colorbar\":{\"outlinewidth\":0,\"ticks\":\"\"},\"colorscale\":[[0.0,\"#0d0887\"],[0.1111111111111111,\"#46039f\"],[0.2222222222222222,\"#7201a8\"],[0.3333333333333333,\"#9c179e\"],[0.4444444444444444,\"#bd3786\"],[0.5555555555555556,\"#d8576b\"],[0.6666666666666666,\"#ed7953\"],[0.7777777777777778,\"#fb9f3a\"],[0.8888888888888888,\"#fdca26\"],[1.0,\"#f0f921\"]]}],\"mesh3d\":[{\"type\":\"mesh3d\",\"colorbar\":{\"outlinewidth\":0,\"ticks\":\"\"}}],\"scatter\":[{\"fillpattern\":{\"fillmode\":\"overlay\",\"size\":10,\"solidity\":0.2},\"type\":\"scatter\"}],\"parcoords\":[{\"type\":\"parcoords\",\"line\":{\"colorbar\":{\"outlinewidth\":0,\"ticks\":\"\"}}}],\"scatterpolargl\":[{\"type\":\"scatterpolargl\",\"marker\":{\"colorbar\":{\"outlinewidth\":0,\"ticks\":\"\"}}}],\"bar\":[{\"error_x\":{\"color\":\"#2a3f5f\"},\"error_y\":{\"color\":\"#2a3f5f\"},\"marker\":{\"line\":{\"color\":\"#E5ECF6\",\"width\":0.5},\"pattern\":{\"fillmode\":\"overlay\",\"size\":10,\"solidity\":0.2}},\"type\":\"bar\"}],\"scattergeo\":[{\"type\":\"scattergeo\",\"marker\":{\"colorbar\":{\"outlinewidth\":0,\"ticks\":\"\"}}}],\"scatterpolar\":[{\"type\":\"scatterpolar\",\"marker\":{\"colorbar\":{\"outlinewidth\":0,\"ticks\":\"\"}}}],\"histogram\":[{\"marker\":{\"pattern\":{\"fillmode\":\"overlay\",\"size\":10,\"solidity\":0.2}},\"type\":\"histogram\"}],\"scattergl\":[{\"type\":\"scattergl\",\"marker\":{\"colorbar\":{\"outlinewidth\":0,\"ticks\":\"\"}}}],\"scatter3d\":[{\"type\":\"scatter3d\",\"line\":{\"colorbar\":{\"outlinewidth\":0,\"ticks\":\"\"}},\"marker\":{\"colorbar\":{\"outlinewidth\":0,\"ticks\":\"\"}}}],\"scattermapbox\":[{\"type\":\"scattermapbox\",\"marker\":{\"colorbar\":{\"outlinewidth\":0,\"ticks\":\"\"}}}],\"scatterternary\":[{\"type\":\"scatterternary\",\"marker\":{\"colorbar\":{\"outlinewidth\":0,\"ticks\":\"\"}}}],\"scattercarpet\":[{\"type\":\"scattercarpet\",\"marker\":{\"colorbar\":{\"outlinewidth\":0,\"ticks\":\"\"}}}],\"carpet\":[{\"aaxis\":{\"endlinecolor\":\"#2a3f5f\",\"gridcolor\":\"white\",\"linecolor\":\"white\",\"minorgridcolor\":\"white\",\"startlinecolor\":\"#2a3f5f\"},\"baxis\":{\"endlinecolor\":\"#2a3f5f\",\"gridcolor\":\"white\",\"linecolor\":\"white\",\"minorgridcolor\":\"white\",\"startlinecolor\":\"#2a3f5f\"},\"type\":\"carpet\"}],\"table\":[{\"cells\":{\"fill\":{\"color\":\"#EBF0F8\"},\"line\":{\"color\":\"white\"}},\"header\":{\"fill\":{\"color\":\"#C8D4E3\"},\"line\":{\"color\":\"white\"}},\"type\":\"table\"}],\"barpolar\":[{\"marker\":{\"line\":{\"color\":\"#E5ECF6\",\"width\":0.5},\"pattern\":{\"fillmode\":\"overlay\",\"size\":10,\"solidity\":0.2}},\"type\":\"barpolar\"}],\"pie\":[{\"automargin\":true,\"type\":\"pie\"}]},\"layout\":{\"autotypenumbers\":\"strict\",\"colorway\":[\"#636efa\",\"#EF553B\",\"#00cc96\",\"#ab63fa\",\"#FFA15A\",\"#19d3f3\",\"#FF6692\",\"#B6E880\",\"#FF97FF\",\"#FECB52\"],\"font\":{\"color\":\"#2a3f5f\"},\"hovermode\":\"closest\",\"hoverlabel\":{\"align\":\"left\"},\"paper_bgcolor\":\"white\",\"plot_bgcolor\":\"#E5ECF6\",\"polar\":{\"bgcolor\":\"#E5ECF6\",\"angularaxis\":{\"gridcolor\":\"white\",\"linecolor\":\"white\",\"ticks\":\"\"},\"radialaxis\":{\"gridcolor\":\"white\",\"linecolor\":\"white\",\"ticks\":\"\"}},\"ternary\":{\"bgcolor\":\"#E5ECF6\",\"aaxis\":{\"gridcolor\":\"white\",\"linecolor\":\"white\",\"ticks\":\"\"},\"baxis\":{\"gridcolor\":\"white\",\"linecolor\":\"white\",\"ticks\":\"\"},\"caxis\":{\"gridcolor\":\"white\",\"linecolor\":\"white\",\"ticks\":\"\"}},\"coloraxis\":{\"colorbar\":{\"outlinewidth\":0,\"ticks\":\"\"}},\"colorscale\":{\"sequential\":[[0.0,\"#0d0887\"],[0.1111111111111111,\"#46039f\"],[0.2222222222222222,\"#7201a8\"],[0.3333333333333333,\"#9c179e\"],[0.4444444444444444,\"#bd3786\"],[0.5555555555555556,\"#d8576b\"],[0.6666666666666666,\"#ed7953\"],[0.7777777777777778,\"#fb9f3a\"],[0.8888888888888888,\"#fdca26\"],[1.0,\"#f0f921\"]],\"sequentialminus\":[[0.0,\"#0d0887\"],[0.1111111111111111,\"#46039f\"],[0.2222222222222222,\"#7201a8\"],[0.3333333333333333,\"#9c179e\"],[0.4444444444444444,\"#bd3786\"],[0.5555555555555556,\"#d8576b\"],[0.6666666666666666,\"#ed7953\"],[0.7777777777777778,\"#fb9f3a\"],[0.8888888888888888,\"#fdca26\"],[1.0,\"#f0f921\"]],\"diverging\":[[0,\"#8e0152\"],[0.1,\"#c51b7d\"],[0.2,\"#de77ae\"],[0.3,\"#f1b6da\"],[0.4,\"#fde0ef\"],[0.5,\"#f7f7f7\"],[0.6,\"#e6f5d0\"],[0.7,\"#b8e186\"],[0.8,\"#7fbc41\"],[0.9,\"#4d9221\"],[1,\"#276419\"]]},\"xaxis\":{\"gridcolor\":\"white\",\"linecolor\":\"white\",\"ticks\":\"\",\"title\":{\"standoff\":15},\"zerolinecolor\":\"white\",\"automargin\":true,\"zerolinewidth\":2},\"yaxis\":{\"gridcolor\":\"white\",\"linecolor\":\"white\",\"ticks\":\"\",\"title\":{\"standoff\":15},\"zerolinecolor\":\"white\",\"automargin\":true,\"zerolinewidth\":2},\"scene\":{\"xaxis\":{\"backgroundcolor\":\"#E5ECF6\",\"gridcolor\":\"white\",\"linecolor\":\"white\",\"showbackground\":true,\"ticks\":\"\",\"zerolinecolor\":\"white\",\"gridwidth\":2},\"yaxis\":{\"backgroundcolor\":\"#E5ECF6\",\"gridcolor\":\"white\",\"linecolor\":\"white\",\"showbackground\":true,\"ticks\":\"\",\"zerolinecolor\":\"white\",\"gridwidth\":2},\"zaxis\":{\"backgroundcolor\":\"#E5ECF6\",\"gridcolor\":\"white\",\"linecolor\":\"white\",\"showbackground\":true,\"ticks\":\"\",\"zerolinecolor\":\"white\",\"gridwidth\":2}},\"shapedefaults\":{\"line\":{\"color\":\"#2a3f5f\"}},\"annotationdefaults\":{\"arrowcolor\":\"#2a3f5f\",\"arrowhead\":0,\"arrowwidth\":1},\"geo\":{\"bgcolor\":\"white\",\"landcolor\":\"#E5ECF6\",\"subunitcolor\":\"white\",\"showland\":true,\"showlakes\":true,\"lakecolor\":\"white\"},\"title\":{\"x\":0.05},\"mapbox\":{\"style\":\"light\"}}},\"hovermode\":\"x\"},                        {\"responsive\": true}                    ).then(function(){\n",
       "                            \n",
       "var gd = document.getElementById('6ee3f008-5ff4-4d59-833a-b61075345d0d');\n",
       "var x = new MutationObserver(function (mutations, observer) {{\n",
       "        var display = window.getComputedStyle(gd).display;\n",
       "        if (!display || display === 'none') {{\n",
       "            console.log([gd, 'removed!']);\n",
       "            Plotly.purge(gd);\n",
       "            observer.disconnect();\n",
       "        }}\n",
       "}});\n",
       "\n",
       "// Listen for the removal of the full notebook cells\n",
       "var notebookContainer = gd.closest('#notebook-container');\n",
       "if (notebookContainer) {{\n",
       "    x.observe(notebookContainer, {childList: true});\n",
       "}}\n",
       "\n",
       "// Listen for the clearing of the current output cell\n",
       "var outputEl = gd.closest('.output');\n",
       "if (outputEl) {{\n",
       "    x.observe(outputEl, {childList: true});\n",
       "}}\n",
       "\n",
       "                        })                };                });            </script>        </div>"
      ]
     },
     "metadata": {},
     "output_type": "display_data"
    }
   ],
   "source": [
    "\n",
    "# Configurar Cufflinks con tu clave de acceso a Plotly\n",
    "cf.go_offline()\n",
    "\n",
    "# Crear un DataFrame para las predicciones\n",
    "df_pred = pd.DataFrame(index=df_target.index[-len(y_test):])\n",
    "df_pred['Actual'] = y_test_inv\n",
    "df_pred['Predicted'] = np.nan\n",
    "df_pred['Predicted'][-len(y_pred_inv):] = y_pred_inv.flatten()\n",
    "\n",
    "# Combinar los DataFrames originales y de predicciones sin incluir 'Semana' nuevamente\n",
    "df_combined = pd.concat([df_target['Arduino uno'], df_pred['Actual'], df_pred['Predicted']], axis=1)\n",
    "\n",
    "# Crear un gráfico interactivo utilizando iplot\n",
    "fig = df_combined.iplot(\n",
    "    kind='line',\n",
    "    xTitle='Semana',\n",
    "    yTitle='Frecuencia',\n",
    "    title='Frecuencia de búsquedas de Arduino uno con predicciones',\n",
    "    asFigure=True\n",
    ")\n",
    "\n",
    "# Configurar el modo de información al pasar el ratón (hovermode)\n",
    "fig.update_layout(hovermode='x')\n",
    "\n",
    "# Mostrar el gráfico\n",
    "fig.show()"
   ]
  }
 ],
 "metadata": {
  "kernelspec": {
   "display_name": "Python 3",
   "language": "python",
   "name": "python3"
  },
  "language_info": {
   "codemirror_mode": {
    "name": "ipython",
    "version": 3
   },
   "file_extension": ".py",
   "mimetype": "text/x-python",
   "name": "python",
   "nbconvert_exporter": "python",
   "pygments_lexer": "ipython3",
   "version": "3.11.6"
  }
 },
 "nbformat": 4,
 "nbformat_minor": 2
}
